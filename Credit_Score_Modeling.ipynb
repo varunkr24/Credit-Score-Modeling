{
  "nbformat": 4,
  "nbformat_minor": 0,
  "metadata": {
    "colab": {
      "name": "Credit Score Modeling.ipynb",
      "provenance": [],
      "authorship_tag": "ABX9TyPKBb8cj0XOGUPUdFuNwn/I",
      "include_colab_link": true
    },
    "kernelspec": {
      "name": "python3",
      "display_name": "Python 3"
    }
  },
  "cells": [
    {
      "cell_type": "markdown",
      "metadata": {
        "id": "view-in-github",
        "colab_type": "text"
      },
      "source": [
        "<a href=\"https://colab.research.google.com/github/varunkr24/Credit-Score-Modeling/blob/Python/Credit_Score_Modeling.ipynb\" target=\"_parent\"><img src=\"https://colab.research.google.com/assets/colab-badge.svg\" alt=\"Open In Colab\"/></a>"
      ]
    },
    {
      "cell_type": "code",
      "metadata": {
        "id": "9dq_0LyjNHHn"
      },
      "source": [
        "import numpy as np\r\n",
        "import pandas as pd\r\n",
        "import seaborn as sns\r\n",
        "import matplotlib.pyplot as plt\r\n",
        "%matplotlib inline"
      ],
      "execution_count": 1,
      "outputs": []
    },
    {
      "cell_type": "code",
      "metadata": {
        "id": "3cU2C_lAj41v",
        "colab": {
          "base_uri": "https://localhost:8080/"
        },
        "outputId": "684c0b5a-7e9a-4b56-b53c-b6d760a893d7"
      },
      "source": [
        "from google.colab import drive\r\n",
        "drive.mount('/content/drive')"
      ],
      "execution_count": 2,
      "outputs": [
        {
          "output_type": "stream",
          "text": [
            "Mounted at /content/drive\n"
          ],
          "name": "stdout"
        }
      ]
    },
    {
      "cell_type": "code",
      "metadata": {
        "id": "CB2B-JwBMy2_"
      },
      "source": [
        "path = \"/content/drive/MyDrive/AIML/Projects/Default Loan/Train_Dataset.csv\""
      ],
      "execution_count": 3,
      "outputs": []
    },
    {
      "cell_type": "code",
      "metadata": {
        "id": "g5F3r27wM2ej",
        "colab": {
          "base_uri": "https://localhost:8080/"
        },
        "outputId": "972d52ed-11fc-4566-98fa-e8d73f84a726"
      },
      "source": [
        "df = pd.read_csv(path)"
      ],
      "execution_count": 4,
      "outputs": [
        {
          "output_type": "stream",
          "text": [
            "/usr/local/lib/python3.7/dist-packages/IPython/core/interactiveshell.py:2718: DtypeWarning: Columns (1,7,8,16,17,18,19,20,35) have mixed types.Specify dtype option on import or set low_memory=False.\n",
            "  interactivity=interactivity, compiler=compiler, result=result)\n"
          ],
          "name": "stderr"
        }
      ]
    },
    {
      "cell_type": "code",
      "metadata": {
        "colab": {
          "base_uri": "https://localhost:8080/",
          "height": 241
        },
        "id": "5NJpJt8ACQfN",
        "outputId": "7c66c320-c0df-43b9-b476-339e1f984912"
      },
      "source": [
        "pd.set_option('display.max_columns', None)\r\n",
        "df.head()"
      ],
      "execution_count": 5,
      "outputs": [
        {
          "output_type": "execute_result",
          "data": {
            "text/html": [
              "<div>\n",
              "<style scoped>\n",
              "    .dataframe tbody tr th:only-of-type {\n",
              "        vertical-align: middle;\n",
              "    }\n",
              "\n",
              "    .dataframe tbody tr th {\n",
              "        vertical-align: top;\n",
              "    }\n",
              "\n",
              "    .dataframe thead th {\n",
              "        text-align: right;\n",
              "    }\n",
              "</style>\n",
              "<table border=\"1\" class=\"dataframe\">\n",
              "  <thead>\n",
              "    <tr style=\"text-align: right;\">\n",
              "      <th></th>\n",
              "      <th>ID</th>\n",
              "      <th>Client_Income</th>\n",
              "      <th>Car_Owned</th>\n",
              "      <th>Bike_Owned</th>\n",
              "      <th>Active_Loan</th>\n",
              "      <th>House_Own</th>\n",
              "      <th>Child_Count</th>\n",
              "      <th>Credit_Amount</th>\n",
              "      <th>Loan_Annuity</th>\n",
              "      <th>Accompany_Client</th>\n",
              "      <th>Client_Income_Type</th>\n",
              "      <th>Client_Education</th>\n",
              "      <th>Client_Marital_Status</th>\n",
              "      <th>Client_Gender</th>\n",
              "      <th>Loan_Contract_Type</th>\n",
              "      <th>Client_Housing_Type</th>\n",
              "      <th>Population_Region_Relative</th>\n",
              "      <th>Age_Days</th>\n",
              "      <th>Employed_Days</th>\n",
              "      <th>Registration_Days</th>\n",
              "      <th>ID_Days</th>\n",
              "      <th>Own_House_Age</th>\n",
              "      <th>Mobile_Tag</th>\n",
              "      <th>Homephone_Tag</th>\n",
              "      <th>Workphone_Working</th>\n",
              "      <th>Client_Occupation</th>\n",
              "      <th>Client_Family_Members</th>\n",
              "      <th>Cleint_City_Rating</th>\n",
              "      <th>Application_Process_Day</th>\n",
              "      <th>Application_Process_Hour</th>\n",
              "      <th>Client_Permanent_Match_Tag</th>\n",
              "      <th>Client_Contact_Work_Tag</th>\n",
              "      <th>Type_Organization</th>\n",
              "      <th>Score_Source_1</th>\n",
              "      <th>Score_Source_2</th>\n",
              "      <th>Score_Source_3</th>\n",
              "      <th>Social_Circle_Default</th>\n",
              "      <th>Phone_Change</th>\n",
              "      <th>Credit_Bureau</th>\n",
              "      <th>Default</th>\n",
              "    </tr>\n",
              "  </thead>\n",
              "  <tbody>\n",
              "    <tr>\n",
              "      <th>0</th>\n",
              "      <td>12142509</td>\n",
              "      <td>6750</td>\n",
              "      <td>0.0</td>\n",
              "      <td>0.0</td>\n",
              "      <td>1.0</td>\n",
              "      <td>0.0</td>\n",
              "      <td>0.0</td>\n",
              "      <td>61190.55</td>\n",
              "      <td>3416.85</td>\n",
              "      <td>Alone</td>\n",
              "      <td>Commercial</td>\n",
              "      <td>Secondary</td>\n",
              "      <td>M</td>\n",
              "      <td>Male</td>\n",
              "      <td>CL</td>\n",
              "      <td>Home</td>\n",
              "      <td>0.028663</td>\n",
              "      <td>13957</td>\n",
              "      <td>1062</td>\n",
              "      <td>6123</td>\n",
              "      <td>383</td>\n",
              "      <td>NaN</td>\n",
              "      <td>1</td>\n",
              "      <td>1</td>\n",
              "      <td>0</td>\n",
              "      <td>Sales</td>\n",
              "      <td>2.0</td>\n",
              "      <td>2.0</td>\n",
              "      <td>6.0</td>\n",
              "      <td>17.0</td>\n",
              "      <td>Yes</td>\n",
              "      <td>Yes</td>\n",
              "      <td>Self-employed</td>\n",
              "      <td>0.568066</td>\n",
              "      <td>0.478787</td>\n",
              "      <td>NaN</td>\n",
              "      <td>0.0186</td>\n",
              "      <td>63.0</td>\n",
              "      <td>NaN</td>\n",
              "      <td>0</td>\n",
              "    </tr>\n",
              "    <tr>\n",
              "      <th>1</th>\n",
              "      <td>12138936</td>\n",
              "      <td>20250</td>\n",
              "      <td>1.0</td>\n",
              "      <td>0.0</td>\n",
              "      <td>1.0</td>\n",
              "      <td>NaN</td>\n",
              "      <td>0.0</td>\n",
              "      <td>15282</td>\n",
              "      <td>1826.55</td>\n",
              "      <td>Alone</td>\n",
              "      <td>Service</td>\n",
              "      <td>Graduation</td>\n",
              "      <td>M</td>\n",
              "      <td>Male</td>\n",
              "      <td>CL</td>\n",
              "      <td>Home</td>\n",
              "      <td>0.008575</td>\n",
              "      <td>14162</td>\n",
              "      <td>4129</td>\n",
              "      <td>7833</td>\n",
              "      <td>21</td>\n",
              "      <td>0.0</td>\n",
              "      <td>1</td>\n",
              "      <td>0</td>\n",
              "      <td>1</td>\n",
              "      <td>NaN</td>\n",
              "      <td>2.0</td>\n",
              "      <td>2.0</td>\n",
              "      <td>3.0</td>\n",
              "      <td>10.0</td>\n",
              "      <td>Yes</td>\n",
              "      <td>Yes</td>\n",
              "      <td>Government</td>\n",
              "      <td>0.563360</td>\n",
              "      <td>0.215068</td>\n",
              "      <td>NaN</td>\n",
              "      <td>NaN</td>\n",
              "      <td>NaN</td>\n",
              "      <td>NaN</td>\n",
              "      <td>0</td>\n",
              "    </tr>\n",
              "    <tr>\n",
              "      <th>2</th>\n",
              "      <td>12181264</td>\n",
              "      <td>18000</td>\n",
              "      <td>0.0</td>\n",
              "      <td>0.0</td>\n",
              "      <td>1.0</td>\n",
              "      <td>0.0</td>\n",
              "      <td>1.0</td>\n",
              "      <td>59527.35</td>\n",
              "      <td>2788.2</td>\n",
              "      <td>Alone</td>\n",
              "      <td>Service</td>\n",
              "      <td>Graduation dropout</td>\n",
              "      <td>W</td>\n",
              "      <td>Male</td>\n",
              "      <td>CL</td>\n",
              "      <td>Family</td>\n",
              "      <td>0.0228</td>\n",
              "      <td>16790</td>\n",
              "      <td>5102</td>\n",
              "      <td>NaN</td>\n",
              "      <td>331</td>\n",
              "      <td>NaN</td>\n",
              "      <td>1</td>\n",
              "      <td>0</td>\n",
              "      <td>0</td>\n",
              "      <td>Realty agents</td>\n",
              "      <td>2.0</td>\n",
              "      <td>2.0</td>\n",
              "      <td>4.0</td>\n",
              "      <td>NaN</td>\n",
              "      <td>Yes</td>\n",
              "      <td>Yes</td>\n",
              "      <td>Self-employed</td>\n",
              "      <td>NaN</td>\n",
              "      <td>0.552795</td>\n",
              "      <td>0.329655</td>\n",
              "      <td>0.0742</td>\n",
              "      <td>277.0</td>\n",
              "      <td>0.0</td>\n",
              "      <td>0</td>\n",
              "    </tr>\n",
              "    <tr>\n",
              "      <th>3</th>\n",
              "      <td>12188929</td>\n",
              "      <td>15750</td>\n",
              "      <td>0.0</td>\n",
              "      <td>0.0</td>\n",
              "      <td>1.0</td>\n",
              "      <td>1.0</td>\n",
              "      <td>0.0</td>\n",
              "      <td>53870.4</td>\n",
              "      <td>2295.45</td>\n",
              "      <td>Alone</td>\n",
              "      <td>Retired</td>\n",
              "      <td>Secondary</td>\n",
              "      <td>M</td>\n",
              "      <td>Male</td>\n",
              "      <td>CL</td>\n",
              "      <td>Home</td>\n",
              "      <td>0.010556</td>\n",
              "      <td>23195</td>\n",
              "      <td>365243</td>\n",
              "      <td>NaN</td>\n",
              "      <td>775</td>\n",
              "      <td>NaN</td>\n",
              "      <td>1</td>\n",
              "      <td>0</td>\n",
              "      <td>0</td>\n",
              "      <td>NaN</td>\n",
              "      <td>2.0</td>\n",
              "      <td>3.0</td>\n",
              "      <td>2.0</td>\n",
              "      <td>15.0</td>\n",
              "      <td>Yes</td>\n",
              "      <td>Yes</td>\n",
              "      <td>XNA</td>\n",
              "      <td>NaN</td>\n",
              "      <td>0.135182</td>\n",
              "      <td>0.631355</td>\n",
              "      <td>NaN</td>\n",
              "      <td>1700.0</td>\n",
              "      <td>3.0</td>\n",
              "      <td>0</td>\n",
              "    </tr>\n",
              "    <tr>\n",
              "      <th>4</th>\n",
              "      <td>12133385</td>\n",
              "      <td>33750</td>\n",
              "      <td>1.0</td>\n",
              "      <td>0.0</td>\n",
              "      <td>1.0</td>\n",
              "      <td>0.0</td>\n",
              "      <td>2.0</td>\n",
              "      <td>133988.4</td>\n",
              "      <td>3547.35</td>\n",
              "      <td>Alone</td>\n",
              "      <td>Commercial</td>\n",
              "      <td>Secondary</td>\n",
              "      <td>M</td>\n",
              "      <td>Female</td>\n",
              "      <td>CL</td>\n",
              "      <td>Home</td>\n",
              "      <td>0.020713</td>\n",
              "      <td>11366</td>\n",
              "      <td>2977</td>\n",
              "      <td>5516</td>\n",
              "      <td>4043</td>\n",
              "      <td>6.0</td>\n",
              "      <td>1</td>\n",
              "      <td>0</td>\n",
              "      <td>0</td>\n",
              "      <td>Laborers</td>\n",
              "      <td>4.0</td>\n",
              "      <td>1.0</td>\n",
              "      <td>3.0</td>\n",
              "      <td>NaN</td>\n",
              "      <td>Yes</td>\n",
              "      <td>Yes</td>\n",
              "      <td>Business Entity Type 3</td>\n",
              "      <td>0.508199</td>\n",
              "      <td>0.301182</td>\n",
              "      <td>0.355639</td>\n",
              "      <td>0.2021</td>\n",
              "      <td>674.0</td>\n",
              "      <td>1.0</td>\n",
              "      <td>0</td>\n",
              "    </tr>\n",
              "  </tbody>\n",
              "</table>\n",
              "</div>"
            ],
            "text/plain": [
              "         ID Client_Income  Car_Owned  Bike_Owned  Active_Loan  House_Own  \\\n",
              "0  12142509          6750        0.0         0.0          1.0        0.0   \n",
              "1  12138936         20250        1.0         0.0          1.0        NaN   \n",
              "2  12181264         18000        0.0         0.0          1.0        0.0   \n",
              "3  12188929         15750        0.0         0.0          1.0        1.0   \n",
              "4  12133385         33750        1.0         0.0          1.0        0.0   \n",
              "\n",
              "   Child_Count Credit_Amount Loan_Annuity Accompany_Client Client_Income_Type  \\\n",
              "0          0.0      61190.55      3416.85            Alone         Commercial   \n",
              "1          0.0         15282      1826.55            Alone            Service   \n",
              "2          1.0      59527.35       2788.2            Alone            Service   \n",
              "3          0.0       53870.4      2295.45            Alone            Retired   \n",
              "4          2.0      133988.4      3547.35            Alone         Commercial   \n",
              "\n",
              "     Client_Education Client_Marital_Status Client_Gender Loan_Contract_Type  \\\n",
              "0           Secondary                     M          Male                 CL   \n",
              "1          Graduation                     M          Male                 CL   \n",
              "2  Graduation dropout                     W          Male                 CL   \n",
              "3           Secondary                     M          Male                 CL   \n",
              "4           Secondary                     M        Female                 CL   \n",
              "\n",
              "  Client_Housing_Type Population_Region_Relative Age_Days Employed_Days  \\\n",
              "0                Home                   0.028663    13957          1062   \n",
              "1                Home                   0.008575    14162          4129   \n",
              "2              Family                     0.0228    16790          5102   \n",
              "3                Home                   0.010556    23195        365243   \n",
              "4                Home                   0.020713    11366          2977   \n",
              "\n",
              "  Registration_Days ID_Days  Own_House_Age  Mobile_Tag  Homephone_Tag  \\\n",
              "0              6123     383            NaN           1              1   \n",
              "1              7833      21            0.0           1              0   \n",
              "2               NaN     331            NaN           1              0   \n",
              "3               NaN     775            NaN           1              0   \n",
              "4              5516    4043            6.0           1              0   \n",
              "\n",
              "   Workphone_Working Client_Occupation  Client_Family_Members  \\\n",
              "0                  0             Sales                    2.0   \n",
              "1                  1               NaN                    2.0   \n",
              "2                  0     Realty agents                    2.0   \n",
              "3                  0               NaN                    2.0   \n",
              "4                  0          Laborers                    4.0   \n",
              "\n",
              "   Cleint_City_Rating  Application_Process_Day  Application_Process_Hour  \\\n",
              "0                 2.0                      6.0                      17.0   \n",
              "1                 2.0                      3.0                      10.0   \n",
              "2                 2.0                      4.0                       NaN   \n",
              "3                 3.0                      2.0                      15.0   \n",
              "4                 1.0                      3.0                       NaN   \n",
              "\n",
              "  Client_Permanent_Match_Tag Client_Contact_Work_Tag       Type_Organization  \\\n",
              "0                        Yes                     Yes           Self-employed   \n",
              "1                        Yes                     Yes              Government   \n",
              "2                        Yes                     Yes           Self-employed   \n",
              "3                        Yes                     Yes                     XNA   \n",
              "4                        Yes                     Yes  Business Entity Type 3   \n",
              "\n",
              "   Score_Source_1  Score_Source_2 Score_Source_3  Social_Circle_Default  \\\n",
              "0        0.568066        0.478787            NaN                 0.0186   \n",
              "1        0.563360        0.215068            NaN                    NaN   \n",
              "2             NaN        0.552795       0.329655                 0.0742   \n",
              "3             NaN        0.135182       0.631355                    NaN   \n",
              "4        0.508199        0.301182       0.355639                 0.2021   \n",
              "\n",
              "   Phone_Change  Credit_Bureau  Default  \n",
              "0          63.0            NaN        0  \n",
              "1           NaN            NaN        0  \n",
              "2         277.0            0.0        0  \n",
              "3        1700.0            3.0        0  \n",
              "4         674.0            1.0        0  "
            ]
          },
          "metadata": {
            "tags": []
          },
          "execution_count": 5
        }
      ]
    },
    {
      "cell_type": "code",
      "metadata": {
        "colab": {
          "base_uri": "https://localhost:8080/"
        },
        "id": "9LsTL7uFD21a",
        "outputId": "9a4633bd-aad0-4762-aa36-d046ee951aa3"
      },
      "source": [
        "pd.set_option('display.max_columns', None)\r\n",
        "print(round(df.describe().T,2))"
      ],
      "execution_count": 6,
      "outputs": [
        {
          "output_type": "stream",
          "text": [
            "                             count         mean       std          min  \\\n",
            "ID                        121856.0  12160928.50  35176.94  12100001.00   \n",
            "Car_Owned                 118275.0         0.34      0.47         0.00   \n",
            "Bike_Owned                118232.0         0.33      0.47         0.00   \n",
            "Active_Loan               118221.0         0.50      0.50         0.00   \n",
            "House_Own                 118195.0         0.69      0.46         0.00   \n",
            "Child_Count               118218.0         0.42      0.73         0.00   \n",
            "Own_House_Age              41761.0        12.16     12.06         0.00   \n",
            "Mobile_Tag                121856.0         1.00      0.00         0.00   \n",
            "Homephone_Tag             121856.0         0.20      0.40         0.00   \n",
            "Workphone_Working         121856.0         0.28      0.45         0.00   \n",
            "Client_Family_Members     119446.0         2.15      0.91         1.00   \n",
            "Cleint_City_Rating        119447.0         2.03      0.50         1.00   \n",
            "Application_Process_Day   119428.0         3.16      1.76         0.00   \n",
            "Application_Process_Hour  118193.0        12.06      3.28         0.00   \n",
            "Score_Source_1             53021.0         0.50      0.21         0.01   \n",
            "Score_Source_2            116170.0         0.52      0.74         0.00   \n",
            "Social_Circle_Default      59928.0         0.12      0.11         0.00   \n",
            "Phone_Change              118192.0       962.11    827.98         0.00   \n",
            "Credit_Bureau             103316.0         1.89      1.86         0.00   \n",
            "Default                   121856.0         0.08      0.27         0.00   \n",
            "\n",
            "                                  25%          50%          75%          max  \n",
            "ID                        12130464.75  12160928.50  12191392.25  12221856.00  \n",
            "Car_Owned                        0.00         0.00         1.00         1.00  \n",
            "Bike_Owned                       0.00         0.00         1.00         1.00  \n",
            "Active_Loan                      0.00         0.00         1.00         1.00  \n",
            "House_Own                        0.00         1.00         1.00         1.00  \n",
            "Child_Count                      0.00         0.00         1.00        19.00  \n",
            "Own_House_Age                    5.00         9.00        15.00        69.00  \n",
            "Mobile_Tag                       1.00         1.00         1.00         1.00  \n",
            "Homephone_Tag                    0.00         0.00         0.00         1.00  \n",
            "Workphone_Working                0.00         0.00         1.00         1.00  \n",
            "Client_Family_Members            2.00         2.00         3.00        16.00  \n",
            "Cleint_City_Rating               2.00         2.00         2.00         3.00  \n",
            "Application_Process_Day          2.00         3.00         5.00         6.00  \n",
            "Application_Process_Hour        10.00        12.00        14.00        23.00  \n",
            "Score_Source_1                   0.33         0.50         0.67         0.95  \n",
            "Score_Source_2                   0.39         0.56         0.66       100.00  \n",
            "Social_Circle_Default            0.06         0.09         0.15         1.00  \n",
            "Phone_Change                   272.00       755.00      1570.00      4185.00  \n",
            "Credit_Bureau                    0.00         1.00         3.00        22.00  \n",
            "Default                          0.00         0.00         0.00         1.00  \n"
          ],
          "name": "stdout"
        }
      ]
    },
    {
      "cell_type": "code",
      "metadata": {
        "colab": {
          "base_uri": "https://localhost:8080/"
        },
        "id": "E-0K408JFVHX",
        "outputId": "e60f2624-2b67-4007-8c5f-f01782431eca"
      },
      "source": [
        "df['Child_Count'].value_counts()"
      ],
      "execution_count": 7,
      "outputs": [
        {
          "output_type": "execute_result",
          "data": {
            "text/plain": [
              "0.0     82834\n",
              "1.0     23431\n",
              "2.0     10294\n",
              "3.0      1430\n",
              "4.0       167\n",
              "5.0        34\n",
              "6.0        12\n",
              "7.0         4\n",
              "14.0        4\n",
              "10.0        3\n",
              "8.0         2\n",
              "19.0        1\n",
              "12.0        1\n",
              "9.0         1\n",
              "Name: Child_Count, dtype: int64"
            ]
          },
          "metadata": {
            "tags": []
          },
          "execution_count": 7
        }
      ]
    },
    {
      "cell_type": "code",
      "metadata": {
        "colab": {
          "base_uri": "https://localhost:8080/",
          "height": 235
        },
        "id": "ShQ14Hm9Fy9W",
        "outputId": "364cf671-dcd3-4e52-8302-138df2dc3a4d"
      },
      "source": [
        "x= df['Child_Count'].isin([14,12,19])\r\n",
        "df[x][['Child_Count','Age_Days']]"
      ],
      "execution_count": 8,
      "outputs": [
        {
          "output_type": "execute_result",
          "data": {
            "text/html": [
              "<div>\n",
              "<style scoped>\n",
              "    .dataframe tbody tr th:only-of-type {\n",
              "        vertical-align: middle;\n",
              "    }\n",
              "\n",
              "    .dataframe tbody tr th {\n",
              "        vertical-align: top;\n",
              "    }\n",
              "\n",
              "    .dataframe thead th {\n",
              "        text-align: right;\n",
              "    }\n",
              "</style>\n",
              "<table border=\"1\" class=\"dataframe\">\n",
              "  <thead>\n",
              "    <tr style=\"text-align: right;\">\n",
              "      <th></th>\n",
              "      <th>Child_Count</th>\n",
              "      <th>Age_Days</th>\n",
              "    </tr>\n",
              "  </thead>\n",
              "  <tbody>\n",
              "    <tr>\n",
              "      <th>46753</th>\n",
              "      <td>19.0</td>\n",
              "      <td>11057</td>\n",
              "    </tr>\n",
              "    <tr>\n",
              "      <th>61373</th>\n",
              "      <td>12.0</td>\n",
              "      <td>13894</td>\n",
              "    </tr>\n",
              "    <tr>\n",
              "      <th>63234</th>\n",
              "      <td>14.0</td>\n",
              "      <td>20308</td>\n",
              "    </tr>\n",
              "    <tr>\n",
              "      <th>65841</th>\n",
              "      <td>14.0</td>\n",
              "      <td>20308</td>\n",
              "    </tr>\n",
              "    <tr>\n",
              "      <th>103913</th>\n",
              "      <td>14.0</td>\n",
              "      <td>17754</td>\n",
              "    </tr>\n",
              "    <tr>\n",
              "      <th>105331</th>\n",
              "      <td>14.0</td>\n",
              "      <td>17754</td>\n",
              "    </tr>\n",
              "  </tbody>\n",
              "</table>\n",
              "</div>"
            ],
            "text/plain": [
              "        Child_Count Age_Days\n",
              "46753          19.0    11057\n",
              "61373          12.0    13894\n",
              "63234          14.0    20308\n",
              "65841          14.0    20308\n",
              "103913         14.0    17754\n",
              "105331         14.0    17754"
            ]
          },
          "metadata": {
            "tags": []
          },
          "execution_count": 8
        }
      ]
    },
    {
      "cell_type": "code",
      "metadata": {
        "colab": {
          "base_uri": "https://localhost:8080/"
        },
        "id": "K-P1onE8LsxF",
        "outputId": "c2c362c9-71de-49c0-936b-dadc4ca67847"
      },
      "source": [
        "df.info()"
      ],
      "execution_count": 9,
      "outputs": [
        {
          "output_type": "stream",
          "text": [
            "<class 'pandas.core.frame.DataFrame'>\n",
            "RangeIndex: 121856 entries, 0 to 121855\n",
            "Data columns (total 40 columns):\n",
            " #   Column                      Non-Null Count   Dtype  \n",
            "---  ------                      --------------   -----  \n",
            " 0   ID                          121856 non-null  int64  \n",
            " 1   Client_Income               118249 non-null  object \n",
            " 2   Car_Owned                   118275 non-null  float64\n",
            " 3   Bike_Owned                  118232 non-null  float64\n",
            " 4   Active_Loan                 118221 non-null  float64\n",
            " 5   House_Own                   118195 non-null  float64\n",
            " 6   Child_Count                 118218 non-null  float64\n",
            " 7   Credit_Amount               118224 non-null  object \n",
            " 8   Loan_Annuity                117044 non-null  object \n",
            " 9   Accompany_Client            120110 non-null  object \n",
            " 10  Client_Income_Type          118155 non-null  object \n",
            " 11  Client_Education            118211 non-null  object \n",
            " 12  Client_Marital_Status       118383 non-null  object \n",
            " 13  Client_Gender               119443 non-null  object \n",
            " 14  Loan_Contract_Type          118205 non-null  object \n",
            " 15  Client_Housing_Type         118169 non-null  object \n",
            " 16  Population_Region_Relative  116999 non-null  object \n",
            " 17  Age_Days                    118256 non-null  object \n",
            " 18  Employed_Days               118207 non-null  object \n",
            " 19  Registration_Days           118242 non-null  object \n",
            " 20  ID_Days                     115888 non-null  object \n",
            " 21  Own_House_Age               41761 non-null   float64\n",
            " 22  Mobile_Tag                  121856 non-null  int64  \n",
            " 23  Homephone_Tag               121856 non-null  int64  \n",
            " 24  Workphone_Working           121856 non-null  int64  \n",
            " 25  Client_Occupation           80421 non-null   object \n",
            " 26  Client_Family_Members       119446 non-null  float64\n",
            " 27  Cleint_City_Rating          119447 non-null  float64\n",
            " 28  Application_Process_Day     119428 non-null  float64\n",
            " 29  Application_Process_Hour    118193 non-null  float64\n",
            " 30  Client_Permanent_Match_Tag  121856 non-null  object \n",
            " 31  Client_Contact_Work_Tag     121856 non-null  object \n",
            " 32  Type_Organization           118247 non-null  object \n",
            " 33  Score_Source_1              53021 non-null   float64\n",
            " 34  Score_Source_2              116170 non-null  float64\n",
            " 35  Score_Source_3              94935 non-null   object \n",
            " 36  Social_Circle_Default       59928 non-null   float64\n",
            " 37  Phone_Change                118192 non-null  float64\n",
            " 38  Credit_Bureau               103316 non-null  float64\n",
            " 39  Default                     121856 non-null  int64  \n",
            "dtypes: float64(15), int64(5), object(20)\n",
            "memory usage: 37.2+ MB\n"
          ],
          "name": "stdout"
        }
      ]
    },
    {
      "cell_type": "code",
      "metadata": {
        "id": "lN1F5n6-jh2f",
        "outputId": "b14c459c-2783-492c-df1f-6a3cd4d326ab",
        "colab": {
          "base_uri": "https://localhost:8080/"
        }
      },
      "source": [
        "!pip install woe"
      ],
      "execution_count": 32,
      "outputs": [
        {
          "output_type": "stream",
          "text": [
            "Collecting woe\n",
            "  Downloading https://files.pythonhosted.org/packages/f5/32/ba4d592dfef45338ee04ca90c37b4f3aa345bdeafcad4dcbf654ad0b14c2/woe-0.1.4-py3-none-any.whl\n",
            "Requirement already satisfied: numpy>=1.11.3 in /usr/local/lib/python3.7/dist-packages (from woe) (1.19.5)\n",
            "Requirement already satisfied: matplotlib>=2.0.0 in /usr/local/lib/python3.7/dist-packages (from woe) (3.2.2)\n",
            "Requirement already satisfied: scipy>=0.18.1 in /usr/local/lib/python3.7/dist-packages (from woe) (1.4.1)\n",
            "Requirement already satisfied: pandas>=0.19.2 in /usr/local/lib/python3.7/dist-packages (from woe) (1.1.5)\n",
            "Requirement already satisfied: pyparsing!=2.0.4,!=2.1.2,!=2.1.6,>=2.0.1 in /usr/local/lib/python3.7/dist-packages (from matplotlib>=2.0.0->woe) (2.4.7)\n",
            "Requirement already satisfied: cycler>=0.10 in /usr/local/lib/python3.7/dist-packages (from matplotlib>=2.0.0->woe) (0.10.0)\n",
            "Requirement already satisfied: kiwisolver>=1.0.1 in /usr/local/lib/python3.7/dist-packages (from matplotlib>=2.0.0->woe) (1.3.1)\n",
            "Requirement already satisfied: python-dateutil>=2.1 in /usr/local/lib/python3.7/dist-packages (from matplotlib>=2.0.0->woe) (2.8.1)\n",
            "Requirement already satisfied: pytz>=2017.2 in /usr/local/lib/python3.7/dist-packages (from pandas>=0.19.2->woe) (2018.9)\n",
            "Requirement already satisfied: six in /usr/local/lib/python3.7/dist-packages (from cycler>=0.10->matplotlib>=2.0.0->woe) (1.15.0)\n",
            "Installing collected packages: woe\n",
            "Successfully installed woe-0.1.4\n"
          ],
          "name": "stdout"
        }
      ]
    },
    {
      "cell_type": "code",
      "metadata": {
        "id": "pyX8862uom2k"
      },
      "source": [
        "import woe.feature_process as fp\r\n",
        "import woe.eval as eval\r\n",
        "import copy"
      ],
      "execution_count": null,
      "outputs": []
    },
    {
      "cell_type": "code",
      "metadata": {
        "id": "JkHHnyC5lXpW"
      },
      "source": [
        "#%%woe binning, iv and transform\r\n",
        "#data_woe=data #woe value used to store all data\r\n",
        "data = copy.deepcopy(df)\r\n",
        "data_woe = copy.deepcopy(df)\r\n",
        "civ_list=[]\r\n",
        "n_positive=sum (data['Default'])\r\n",
        "n_negtive=len(data)-n_positive\r\n",
        "for column in list(data.columns[1:]):\r\n",
        "  if data[column].dtypes == 'object':\r\n",
        "    civ=fp.proc_woe_discrete(data, column, n_positive, n_negtive, 0.05*len(data), alpha=0.05)\r\n",
        "  else:\r\n",
        "    civ=fp.proc_woe_continuous(data, column, n_positive, n_negtive, 0.05*len(data), alpha=0.05)\r\n",
        "    civ_list.append(civ)\r\n",
        "    data_woe[column]=fp.woe_trans(data[column], civ)\r\n",
        "civ_df=eval.eval_feature_detail(civ_list, \"output_feature_detail_0315.csv\")\r\n",
        "#Delete the iv value is too small\r\n",
        "#iv_thre=0.002\r\n",
        "iv=civ_df[[\"var_name\", \"iv\"]].drop_duplicates()\r\n",
        "x_columns=iv.var_name[(iv.iv<0.51)&(iv.iv>0.002)]"
      ],
      "execution_count": 43,
      "outputs": []
    },
    {
      "cell_type": "code",
      "metadata": {
        "id": "ZSDe22Eel0N8",
        "outputId": "b9fde628-b4e8-4796-eb33-7c8830c8505e",
        "colab": {
          "base_uri": "https://localhost:8080/"
        }
      },
      "source": [
        "proc_woe_discrete (df, var, global_bt, global_gt, min_sample, alpha=0.01)\r\n",
        "proc_woe_continuous (df, var, global_bt, global_gt, min_sample, alpha=0.01)"
      ],
      "execution_count": 39,
      "outputs": [
        {
          "output_type": "execute_result",
          "data": {
            "text/plain": [
              "(9845, 112011)"
            ]
          },
          "metadata": {
            "tags": []
          },
          "execution_count": 39
        }
      ]
    },
    {
      "cell_type": "markdown",
      "metadata": {
        "id": "_bUrTamJplrg"
      },
      "source": [
        "df:dataframe, to calculate woe's data, it must contain the \"target\" variable, and the value of the variable is {0, 1}\r\n",
        "\r\n",
        "var:variable name to calculate woe\r\n",
        "\r\n",
        "global_bt:The global variable bad total. Number of positive samples of df\r\n",
        "\r\n",
        "global_gt:global variable good total. Number of negative samples for df\r\n",
        "\r\n",
        "min_sample:specify the minimum sample size in each bin,Generally set to 5%of the total sample.\r\n",
        "\r\n",
        "alpha:a standard used to automatically calculate binning,The default is 0.01. If iv_division>iv_ does not divide * (1 + alpha) then divide."
      ]
    }
  ]
}